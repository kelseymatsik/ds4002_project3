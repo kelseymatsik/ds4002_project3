{
 "cells": [
  {
   "cell_type": "code",
   "execution_count": 1,
   "id": "17b9f9da-87e1-4b03-ad82-2d842b73a9f4",
   "metadata": {
    "tags": []
   },
   "outputs": [],
   "source": [
    "import os\n",
    "import cv2\n",
    "import numpy as np\n",
    "from glob import glob\n",
    "from tqdm import tqdm\n",
    "import warnings"
   ]
  },
  {
   "cell_type": "code",
   "execution_count": 2,
   "id": "63cd6c34-834e-4a94-91e5-16370998d377",
   "metadata": {
    "tags": []
   },
   "outputs": [],
   "source": [
    "base_path = \"/sfs/gpfs/tardis/home/kcm7zp/brain_tumor_data\"\n",
    "\n",
    "tumor_types = ['glioma', 'meningioma', 'pituitary']\n",
    "label_map = {'glioma': 1, 'meningioma': 2, 'pituitary': 3}\n",
    "\n",
    "# print(os.listdir(base_path))"
   ]
  },
  {
   "cell_type": "code",
   "execution_count": 3,
   "id": "a96aef1b-07e7-4a57-8847-204e55f32063",
   "metadata": {
    "tags": []
   },
   "outputs": [
    {
     "name": "stderr",
     "output_type": "stream",
     "text": [
      "Processing glioma: 100%|██████████| 1426/1426 [00:09<00:00, 143.14it/s]\n",
      "Processing meningioma: 100%|██████████| 708/708 [00:08<00:00, 83.79it/s] \n",
      "Processing pituitary: 100%|██████████| 930/930 [00:12<00:00, 76.34it/s] "
     ]
    },
    {
     "name": "stdout",
     "output_type": "stream",
     "text": [
      "\n",
      "Total samples loaded: 3064\n"
     ]
    },
    {
     "name": "stderr",
     "output_type": "stream",
     "text": [
      "\n"
     ]
    }
   ],
   "source": [
    "data = []\n",
    "\n",
    "for tumor in tumor_types:\n",
    "    img_folder = os.path.join(base_path, tumor, \"images\")\n",
    "    mask_folder = os.path.join(base_path, tumor, \"masks\")\n",
    "    \n",
    "    img_files = sorted([f for f in os.listdir(img_folder) if f.endswith(\".png\") and not f.startswith(\".\")])\n",
    "    \n",
    "    for img_file in tqdm(img_files, desc=f\"Processing {tumor}\"):\n",
    "        base_id = img_file.replace(f\"{tumor}_\", \"\").replace(\".png\", \"\")\n",
    "        mask_file = f\"{tumor}_mask_{base_id}.png\"\n",
    "        \n",
    "        img_path = os.path.join(img_folder, img_file)\n",
    "        mask_path = os.path.join(mask_folder, mask_file)\n",
    "        \n",
    "        # Read in the image and mask \n",
    "        img = cv2.imread(img_path, cv2.IMREAD_GRAYSCALE)\n",
    "        mask = cv2.imread(mask_path, cv2.IMREAD_GRAYSCALE)\n",
    "\n",
    "        if img is None or mask is None:\n",
    "            print(f\"Failed to load: {img_path} or {mask_path}\")\n",
    "            continue\n",
    "\n",
    "        # Resize to common dimensions\n",
    "        img = cv2.resize(img, (256, 256))\n",
    "        mask = cv2.resize(mask, (256, 256))\n",
    "\n",
    "        # Normalize to [0, 1]\n",
    "        img = img / 255.0\n",
    "        mask = mask / 255.0\n",
    "        \n",
    "        # Append to data list\n",
    "        data.append({\n",
    "            'image': img,\n",
    "            'mask': mask,\n",
    "            'label': label_map[tumor]\n",
    "        })\n",
    "\n",
    "print(f\"\\nTotal samples loaded: {len(data)}\")\n"
   ]
  },
  {
   "cell_type": "code",
   "execution_count": 4,
   "id": "7fd9fdac-2e08-495e-ac2e-f172ece9a68d",
   "metadata": {
    "tags": []
   },
   "outputs": [
    {
     "name": "stdout",
     "output_type": "stream",
     "text": [
      "Total samples loaded: 3064\n",
      "Labels and counts: {1: 1426, 2: 708, 3: 930}\n"
     ]
    }
   ],
   "source": [
    "# Sanity check \n",
    "print(f\"Total samples loaded: {len(data)}\")\n",
    "\n",
    "labels = [item['label'] for item in data]\n",
    "unique_labels, counts = np.unique(labels, return_counts=True)\n",
    "print(\"Labels and counts:\", dict(zip(unique_labels, counts)))"
   ]
  },
  {
   "cell_type": "code",
   "execution_count": 37,
   "id": "18dbf0b0-51a0-495f-9be4-40a5d7a79348",
   "metadata": {
    "tags": []
   },
   "outputs": [],
   "source": [
    "# Convert to numpy arrays -- run this again\n",
    "# Skip converting masks right now to save memory\n",
    "images = np.array([item['image'] for item in data])\n",
    "# masks = np.array([item['mask'] for item in data])\n",
    "labels = np.array([item['label'] for item in data])\n",
    "\n",
    "# Add channel dimension for Tensorflow/Keras \n",
    "images = np.expand_dims(images, axis=-1)  # shape: (N, 256, 256, 1)\n",
    "# masks = np.expand_dims(masks, axis=-1)"
   ]
  },
  {
   "cell_type": "code",
   "execution_count": 38,
   "id": "b3810233-80f5-4be4-a782-bb4cc16d7bea",
   "metadata": {},
   "outputs": [],
   "source": [
    "# Train/Val/Test Split \n",
    "from sklearn.model_selection import train_test_split\n",
    "\n",
    "# First split off test\n",
    "X_trainval, X_test, y_trainval, y_test = train_test_split(images, labels, test_size=0.15, stratify=labels, random_state=42)\n",
    "\n",
    "# Then split train and val\n",
    "X_train, X_val, y_train, y_val = train_test_split(X_trainval, y_trainval, test_size=0.15, stratify=y_trainval, random_state=42)"
   ]
  },
  {
   "cell_type": "markdown",
   "id": "469f1c8d-43fe-456a-8c4f-df0461d4b03c",
   "metadata": {},
   "source": [
    "## Build the CNN in Keras"
   ]
  },
  {
   "cell_type": "code",
   "execution_count": 39,
   "id": "71da553b-87f6-4cf5-91f2-c471ab1ae404",
   "metadata": {
    "tags": []
   },
   "outputs": [],
   "source": [
    "import tensorflow as tf\n",
    "from tensorflow.keras import layers, models\n",
    "from tensorflow.keras.metrics import Precision, Recall, SparseCategoricalAccuracy\n",
    "\n",
    "model = models.Sequential([\n",
    "    layers.Conv2D(32, (3, 3), activation='relu', input_shape=(256, 256, 1)),\n",
    "    layers.MaxPooling2D((2, 2)),\n",
    "\n",
    "    layers.Conv2D(64, (3, 3), activation='relu'),\n",
    "    layers.MaxPooling2D((2, 2)),\n",
    "\n",
    "    layers.Conv2D(128, (3, 3), activation='relu'),\n",
    "    layers.MaxPooling2D((2, 2)),\n",
    "\n",
    "    layers.Flatten(),\n",
    "    layers.Dense(64, activation='relu'),\n",
    "    layers.Dense(3, activation='softmax')  # 3 tumor classes\n",
    "])"
   ]
  },
  {
   "cell_type": "markdown",
   "id": "434a109e-4cf3-4ec2-85e1-18eb5e4a9d9b",
   "metadata": {
    "tags": []
   },
   "source": [
    "## Compile the Model"
   ]
  },
  {
   "cell_type": "code",
   "execution_count": 40,
   "id": "3a4744d6-5d41-41c2-a45e-b26e1e2e2495",
   "metadata": {
    "tags": []
   },
   "outputs": [],
   "source": [
    "# Shift labels to 0-based indexing (1 --> 0, etc.) \n",
    "y_train = y_train - 1\n",
    "y_val = y_val - 1\n",
    "y_test = y_test - 1\n",
    "\n",
    "y_train = y_train.flatten()\n",
    "y_val = y_val.flatten()\n",
    "y_test = y_test.flatten()\n",
    "\n",
    "\n",
    "model.compile(optimizer='adam',\n",
    "              loss='sparse_categorical_crossentropy',\n",
    "              metrics=['accuracy'])"
   ]
  },
  {
   "cell_type": "markdown",
   "id": "7a8f0fd4-7c70-48ab-81fe-ec3715a5d7fe",
   "metadata": {},
   "source": [
    "## Train the Model"
   ]
  },
  {
   "cell_type": "code",
   "execution_count": 41,
   "id": "10904f80-157e-401a-b0bb-40bdabca4632",
   "metadata": {
    "tags": []
   },
   "outputs": [
    {
     "name": "stdout",
     "output_type": "stream",
     "text": [
      "(2213, 256, 256, 1)\n",
      "(2213,)\n",
      "(array([0, 1, 2]), array([1030,  512,  671]))\n"
     ]
    }
   ],
   "source": [
    "print(X_train.shape) \n",
    "print(y_train.shape)\n",
    "print(np.unique(y_train, return_counts=True))\n",
    "\n",
    "## Output\n",
    "# (2213, 256, 256, 1)\n",
    "# (2213,)\n",
    "# (array([0, 1, 2]), array([count_0, count_1, count_2]))"
   ]
  },
  {
   "cell_type": "code",
   "execution_count": 20,
   "id": "b9f84feb-16dc-4e45-8960-dee21aeee770",
   "metadata": {
    "tags": []
   },
   "outputs": [
    {
     "name": "stdout",
     "output_type": "stream",
     "text": [
      "0 0\n",
      "0 0\n"
     ]
    }
   ],
   "source": [
    "# Check for NaNs or Inf values\n",
    "print(np.isnan(X_train).sum(), np.isinf(X_train).sum())\n",
    "print(np.isnan(y_train).sum(), np.isinf(y_train).sum())"
   ]
  },
  {
   "cell_type": "code",
   "execution_count": 21,
   "id": "c373d9e0-3712-4ef0-9ca0-8a246a4a447c",
   "metadata": {
    "tags": []
   },
   "outputs": [
    {
     "name": "stdout",
     "output_type": "stream",
     "text": [
      "[0 1 2]\n",
      "(2213,)\n",
      "[2 1 0 2 2]\n"
     ]
    }
   ],
   "source": [
    "print(np.unique(y_train))     # Should output [0 1 2]\n",
    "print(y_train.shape)          # Should be (N,) — a 1D array\n",
    "print(y_train[:5])            # Check first few labels\n"
   ]
  },
  {
   "cell_type": "code",
   "execution_count": 22,
   "id": "7b90dfdc-0772-4a72-bc4a-11b2f8780f92",
   "metadata": {
    "tags": []
   },
   "outputs": [
    {
     "name": "stdout",
     "output_type": "stream",
     "text": [
      "(3064, 256, 256, 1)\n",
      "(3064,)\n",
      "int64\n"
     ]
    }
   ],
   "source": [
    "print(images.shape)           # (3064, 256, 256, 1)\n",
    "print(labels.shape)           # (3064,)\n",
    "print(labels.dtype)           # should be int32 or int64"
   ]
  },
  {
   "cell_type": "code",
   "execution_count": 35,
   "id": "b23b04aa-7d02-465d-b349-b205c1b3eaed",
   "metadata": {
    "tags": []
   },
   "outputs": [],
   "source": [
    "# Suppress warnings\n",
    "\n",
    "import os\n",
    "import warnings\n",
    "import logging\n",
    "\n",
    "os.environ['TF_CPP_MIN_LOG_LEVEL'] = '3'\n",
    "warnings.filterwarnings(\"ignore\")\n",
    "logging.getLogger(\"tensorflow\").setLevel(logging.ERROR)\n"
   ]
  },
  {
   "cell_type": "code",
   "execution_count": null,
   "id": "c3f0c807-acd2-4ec3-94e4-6af4f995d8ee",
   "metadata": {
    "tags": []
   },
   "outputs": [],
   "source": [
    "# Hide warnings \n",
    "warnings.filterwarnings(\"ignore\")\n",
    "\n",
    "# Flatten labels before fitting \n",
    "# y_train = y_train.flatten()\n",
    "# y_val = y_val.flatten()\n",
    "# y_test = y_test.flatten()\n",
    "\n",
    "history = model.fit(\n",
    "    X_train, y_train,\n",
    "    epochs=10,\n",
    "    batch_size=32,\n",
    "    validation_data=(X_val, y_val)\n",
    ")"
   ]
  },
  {
   "cell_type": "markdown",
   "id": "d5275f55-8586-4d46-b9ad-7160e11c1857",
   "metadata": {},
   "source": [
    "## Evaluate the Model"
   ]
  },
  {
   "cell_type": "code",
   "execution_count": 26,
   "id": "e2e75111-6c01-4630-9928-571fd73731c3",
   "metadata": {
    "tags": []
   },
   "outputs": [
    {
     "name": "stdout",
     "output_type": "stream",
     "text": [
      "15/15 [==============================] - 0s 9ms/step - loss: 0.4179 - accuracy: 0.9304\n",
      "\n",
      "Test Accuracy: 0.93\n"
     ]
    },
    {
     "name": "stderr",
     "output_type": "stream",
     "text": [
      "W0000 00:00:1744904171.686399  237933 gpu_timer.cc:114] Skipping the delay kernel, measurement accuracy will be reduced\n",
      "W0000 00:00:1744904171.686623  237933 gpu_timer.cc:114] Skipping the delay kernel, measurement accuracy will be reduced\n",
      "W0000 00:00:1744904171.686971  237933 gpu_timer.cc:114] Skipping the delay kernel, measurement accuracy will be reduced\n",
      "W0000 00:00:1744904171.687160  237933 gpu_timer.cc:114] Skipping the delay kernel, measurement accuracy will be reduced\n",
      "W0000 00:00:1744904171.687503  237933 gpu_timer.cc:114] Skipping the delay kernel, measurement accuracy will be reduced\n",
      "W0000 00:00:1744904171.687755  237933 gpu_timer.cc:114] Skipping the delay kernel, measurement accuracy will be reduced\n",
      "W0000 00:00:1744904171.688172  237933 gpu_timer.cc:114] Skipping the delay kernel, measurement accuracy will be reduced\n",
      "W0000 00:00:1744904171.688564  237933 gpu_timer.cc:114] Skipping the delay kernel, measurement accuracy will be reduced\n",
      "W0000 00:00:1744904171.689018  237933 gpu_timer.cc:114] Skipping the delay kernel, measurement accuracy will be reduced\n",
      "W0000 00:00:1744904171.689490  237933 gpu_timer.cc:114] Skipping the delay kernel, measurement accuracy will be reduced\n",
      "W0000 00:00:1744904171.690202  237933 gpu_timer.cc:114] Skipping the delay kernel, measurement accuracy will be reduced\n",
      "W0000 00:00:1744904171.690933  237933 gpu_timer.cc:114] Skipping the delay kernel, measurement accuracy will be reduced\n",
      "W0000 00:00:1744904171.691641  237933 gpu_timer.cc:114] Skipping the delay kernel, measurement accuracy will be reduced\n",
      "W0000 00:00:1744904171.692402  237933 gpu_timer.cc:114] Skipping the delay kernel, measurement accuracy will be reduced\n",
      "W0000 00:00:1744904171.693104  237933 gpu_timer.cc:114] Skipping the delay kernel, measurement accuracy will be reduced\n",
      "W0000 00:00:1744904171.696991  237933 gpu_timer.cc:114] Skipping the delay kernel, measurement accuracy will be reduced\n",
      "W0000 00:00:1744904171.697421  237933 gpu_timer.cc:114] Skipping the delay kernel, measurement accuracy will be reduced\n",
      "W0000 00:00:1744904171.697848  237933 gpu_timer.cc:114] Skipping the delay kernel, measurement accuracy will be reduced\n",
      "W0000 00:00:1744904171.698462  237933 gpu_timer.cc:114] Skipping the delay kernel, measurement accuracy will be reduced\n",
      "W0000 00:00:1744904171.699062  237933 gpu_timer.cc:114] Skipping the delay kernel, measurement accuracy will be reduced\n",
      "W0000 00:00:1744904171.699523  237933 gpu_timer.cc:114] Skipping the delay kernel, measurement accuracy will be reduced\n",
      "W0000 00:00:1744904171.699920  237933 gpu_timer.cc:114] Skipping the delay kernel, measurement accuracy will be reduced\n",
      "W0000 00:00:1744904171.700341  237933 gpu_timer.cc:114] Skipping the delay kernel, measurement accuracy will be reduced\n",
      "W0000 00:00:1744904171.700965  237933 gpu_timer.cc:114] Skipping the delay kernel, measurement accuracy will be reduced\n",
      "W0000 00:00:1744904171.701598  237933 gpu_timer.cc:114] Skipping the delay kernel, measurement accuracy will be reduced\n",
      "W0000 00:00:1744904171.702300  237933 gpu_timer.cc:114] Skipping the delay kernel, measurement accuracy will be reduced\n",
      "W0000 00:00:1744904171.703108  237933 gpu_timer.cc:114] Skipping the delay kernel, measurement accuracy will be reduced\n",
      "W0000 00:00:1744904171.703896  237933 gpu_timer.cc:114] Skipping the delay kernel, measurement accuracy will be reduced\n",
      "W0000 00:00:1744904171.704726  237933 gpu_timer.cc:114] Skipping the delay kernel, measurement accuracy will be reduced\n",
      "W0000 00:00:1744904171.705597  237933 gpu_timer.cc:114] Skipping the delay kernel, measurement accuracy will be reduced\n",
      "W0000 00:00:1744904171.709238  237933 gpu_timer.cc:114] Skipping the delay kernel, measurement accuracy will be reduced\n",
      "W0000 00:00:1744904171.709666  237933 gpu_timer.cc:114] Skipping the delay kernel, measurement accuracy will be reduced\n",
      "W0000 00:00:1744904171.710081  237933 gpu_timer.cc:114] Skipping the delay kernel, measurement accuracy will be reduced\n",
      "W0000 00:00:1744904171.710379  237933 gpu_timer.cc:114] Skipping the delay kernel, measurement accuracy will be reduced\n",
      "W0000 00:00:1744904171.710736  237933 gpu_timer.cc:114] Skipping the delay kernel, measurement accuracy will be reduced\n",
      "W0000 00:00:1744904171.711164  237933 gpu_timer.cc:114] Skipping the delay kernel, measurement accuracy will be reduced\n",
      "W0000 00:00:1744904171.711585  237933 gpu_timer.cc:114] Skipping the delay kernel, measurement accuracy will be reduced\n",
      "W0000 00:00:1744904171.712043  237933 gpu_timer.cc:114] Skipping the delay kernel, measurement accuracy will be reduced\n",
      "W0000 00:00:1744904171.712443  237933 gpu_timer.cc:114] Skipping the delay kernel, measurement accuracy will be reduced\n",
      "W0000 00:00:1744904171.712841  237933 gpu_timer.cc:114] Skipping the delay kernel, measurement accuracy will be reduced\n",
      "W0000 00:00:1744904171.713448  237933 gpu_timer.cc:114] Skipping the delay kernel, measurement accuracy will be reduced\n",
      "W0000 00:00:1744904171.714078  237933 gpu_timer.cc:114] Skipping the delay kernel, measurement accuracy will be reduced\n",
      "W0000 00:00:1744904171.714522  237933 gpu_timer.cc:114] Skipping the delay kernel, measurement accuracy will be reduced\n",
      "W0000 00:00:1744904171.714998  237933 gpu_timer.cc:114] Skipping the delay kernel, measurement accuracy will be reduced\n",
      "W0000 00:00:1744904171.715735  237933 gpu_timer.cc:114] Skipping the delay kernel, measurement accuracy will be reduced\n",
      "W0000 00:00:1744904171.716235  237933 gpu_timer.cc:114] Skipping the delay kernel, measurement accuracy will be reduced\n"
     ]
    }
   ],
   "source": [
    "test_loss, test_acc = model.evaluate(X_test, y_test)\n",
    "print(f\"\\nTest Accuracy: {test_acc:.2f}\")"
   ]
  }
 ],
 "metadata": {
  "kernelspec": {
   "display_name": "Tensorflow 2.17.0",
   "language": "python",
   "name": "tensorflow-2.17.0"
  },
  "language_info": {
   "codemirror_mode": {
    "name": "ipython",
    "version": 3
   },
   "file_extension": ".py",
   "mimetype": "text/x-python",
   "name": "python",
   "nbconvert_exporter": "python",
   "pygments_lexer": "ipython3",
   "version": "3.12.3"
  }
 },
 "nbformat": 4,
 "nbformat_minor": 5
}
