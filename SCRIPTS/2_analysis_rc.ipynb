{
 "cells": [
  {
   "cell_type": "code",
   "execution_count": 5,
   "id": "4de62490-ab8c-434a-a41b-1e222df6cfe6",
   "metadata": {
    "tags": []
   },
   "outputs": [
    {
     "name": "stdout",
     "output_type": "stream",
     "text": [
      "/sfs/gpfs/tardis/home/kcm7zp\n"
     ]
    }
   ],
   "source": [
    "! pwd"
   ]
  },
  {
   "cell_type": "code",
   "execution_count": 6,
   "id": "ff028e47-08d5-4adc-98a6-873c853e46ab",
   "metadata": {
    "tags": []
   },
   "outputs": [
    {
     "name": "stdout",
     "output_type": "stream",
     "text": [
      "Cloning into 'ds4002_project3'...\n",
      "remote: Enumerating objects: 98, done.\u001b[K\n",
      "remote: Counting objects: 100% (98/98), done.\u001b[K\n",
      "remote: Compressing objects: 100% (80/80), done.\u001b[K\n",
      "remote: Total 98 (delta 29), reused 13 (delta 4), pack-reused 0 (from 0)\u001b[K\n",
      "Receiving objects: 100% (98/98), 859.89 KiB | 19.54 MiB/s, done.\n",
      "Resolving deltas: 100% (29/29), done.\n"
     ]
    }
   ],
   "source": [
    "! git clone https://github.com/kelseymatsik/ds4002_project3.git"
   ]
  },
  {
   "cell_type": "code",
   "execution_count": 14,
   "id": "985d9553-f8d0-4258-86df-82b231a689a2",
   "metadata": {
    "tags": []
   },
   "outputs": [
    {
     "name": "stdout",
     "output_type": "stream",
     "text": [
      "/bin/bash: line 1: cd: ds4002_project3/SCRIPTS: No such file or directory\n"
     ]
    }
   ],
   "source": [
    "! cd ds4002_project3/SCRIPTS"
   ]
  },
  {
   "cell_type": "code",
   "execution_count": 12,
   "id": "b7f9addd-971f-4c16-98b2-7c38a5246ba8",
   "metadata": {
    "tags": []
   },
   "outputs": [
    {
     "name": "stdout",
     "output_type": "stream",
     "text": [
      "/sfs/gpfs/tardis/home/kcm7zp/ds4002_project3\n"
     ]
    }
   ],
   "source": [
    "! pwd"
   ]
  },
  {
   "cell_type": "code",
   "execution_count": 15,
   "id": "08006c29-1085-46be-a8e5-9d9587fe7391",
   "metadata": {
    "tags": []
   },
   "outputs": [],
   "source": [
    "! cd SCRIPTS"
   ]
  },
  {
   "cell_type": "code",
   "execution_count": 16,
   "id": "cfb9e163-46ba-4623-83e2-3028daca48bf",
   "metadata": {
    "tags": []
   },
   "outputs": [
    {
     "name": "stdout",
     "output_type": "stream",
     "text": [
      "/sfs/gpfs/tardis/home/kcm7zp/ds4002_project3\n"
     ]
    }
   ],
   "source": [
    "! pwd"
   ]
  },
  {
   "cell_type": "code",
   "execution_count": 17,
   "id": "17b9f9da-87e1-4b03-ad82-2d842b73a9f4",
   "metadata": {
    "tags": []
   },
   "outputs": [],
   "source": [
    "import os\n",
    "import numpy as np\n",
    "from PIL import Image\n",
    "import tensorflow as tf\n",
    "from sklearn.model_selection import train_test_split"
   ]
  },
  {
   "cell_type": "code",
   "execution_count": null,
   "id": "46bf6f7b-585f-4bba-8ea8-349fdaf65d4a",
   "metadata": {},
   "outputs": [],
   "source": [
    "# Constants\n",
    "IMAGE_SIZE = (128, 128)  # You can adjust this\n",
    "DATA_PATH = \"path/to/brain_tumor_data\"\n",
    "CATEGORIES = ['glioma', 'meningioma', 'pituitary']\n",
    "\n",
    "def load_images_and_labels(data_path, categories, image_size):\n",
    "    images = []\n",
    "    labels = []\n",
    "\n",
    "    for label_index, category in enumerate(categories):\n",
    "        image_folder = os.path.join(data_path, category, 'images')\n",
    "        \n",
    "        for filename in os.listdir(image_folder):\n",
    "            if filename.endswith('.png'):\n",
    "                image_path = os.path.join(image_folder, filename)\n",
    "                image = Image.open(image_path).convert('L')  # convert to grayscale\n",
    "                image = image.resize(image_size)\n",
    "                image_array = np.array(image) / 255.0  # normalize\n",
    "\n",
    "                images.append(image_array)\n",
    "                labels.append(label_index)\n",
    "\n",
    "    return np.array(images), np.array(labels)\n",
    "\n",
    "# Load data\n",
    "X, y = load_images_and_labels(DATA_PATH, CATEGORIES, IMAGE_SIZE)\n",
    "\n",
    "# Expand dimensions for CNN input\n",
    "X = np.expand_dims(X, axis=-1)\n",
    "\n",
    "# Split into training, validation, and test sets\n",
    "X_train, X_temp, y_train, y_temp = train_test_split(X, y, test_size=0.3, stratify=y, random_state=42)\n",
    "X_val, X_test, y_val, y_test = train_test_split(X_temp, y_temp, test_size=0.5, stratify=y_temp, random_state=42)"
   ]
  },
  {
   "cell_type": "code",
   "execution_count": null,
   "id": "c5a6fcd2-b233-47b6-84ec-9018e6dad674",
   "metadata": {},
   "outputs": [],
   "source": []
  },
  {
   "cell_type": "code",
   "execution_count": 18,
   "id": "d93c7bc7-580a-408a-b6ac-a9d680bb105f",
   "metadata": {
    "tags": []
   },
   "outputs": [
    {
     "ename": "FileNotFoundError",
     "evalue": "[Errno 2] No such file or directory: '/Users/kelsey/Desktop/brain_tumor_data/glioma/images'",
     "output_type": "error",
     "traceback": [
      "\u001b[0;31m---------------------------------------------------------------------------\u001b[0m",
      "\u001b[0;31mFileNotFoundError\u001b[0m                         Traceback (most recent call last)",
      "Cell \u001b[0;32mIn[18], line 26\u001b[0m\n\u001b[1;32m     23\u001b[0m     \u001b[38;5;28;01mreturn\u001b[39;00m np\u001b[38;5;241m.\u001b[39marray(images), np\u001b[38;5;241m.\u001b[39marray(labels)\n\u001b[1;32m     25\u001b[0m \u001b[38;5;66;03m# Load data\u001b[39;00m\n\u001b[0;32m---> 26\u001b[0m X, y \u001b[38;5;241m=\u001b[39m \u001b[43mload_images_and_labels\u001b[49m\u001b[43m(\u001b[49m\u001b[43mDATA_PATH\u001b[49m\u001b[43m,\u001b[49m\u001b[43m \u001b[49m\u001b[43mCATEGORIES\u001b[49m\u001b[43m,\u001b[49m\u001b[43m \u001b[49m\u001b[43mIMAGE_SIZE\u001b[49m\u001b[43m)\u001b[49m\n\u001b[1;32m     28\u001b[0m \u001b[38;5;66;03m# Expand dimensions for CNN input\u001b[39;00m\n\u001b[1;32m     29\u001b[0m X \u001b[38;5;241m=\u001b[39m np\u001b[38;5;241m.\u001b[39mexpand_dims(X, axis\u001b[38;5;241m=\u001b[39m\u001b[38;5;241m-\u001b[39m\u001b[38;5;241m1\u001b[39m)\n",
      "Cell \u001b[0;32mIn[18], line 13\u001b[0m, in \u001b[0;36mload_images_and_labels\u001b[0;34m(data_path, categories, image_size)\u001b[0m\n\u001b[1;32m     10\u001b[0m \u001b[38;5;28;01mfor\u001b[39;00m label_index, category \u001b[38;5;129;01min\u001b[39;00m \u001b[38;5;28menumerate\u001b[39m(categories):\n\u001b[1;32m     11\u001b[0m     image_folder \u001b[38;5;241m=\u001b[39m os\u001b[38;5;241m.\u001b[39mpath\u001b[38;5;241m.\u001b[39mjoin(data_path, category, \u001b[38;5;124m'\u001b[39m\u001b[38;5;124mimages\u001b[39m\u001b[38;5;124m'\u001b[39m)\n\u001b[0;32m---> 13\u001b[0m     \u001b[38;5;28;01mfor\u001b[39;00m filename \u001b[38;5;129;01min\u001b[39;00m \u001b[43mos\u001b[49m\u001b[38;5;241;43m.\u001b[39;49m\u001b[43mlistdir\u001b[49m\u001b[43m(\u001b[49m\u001b[43mimage_folder\u001b[49m\u001b[43m)\u001b[49m:\n\u001b[1;32m     14\u001b[0m         \u001b[38;5;28;01mif\u001b[39;00m filename\u001b[38;5;241m.\u001b[39mendswith(\u001b[38;5;124m'\u001b[39m\u001b[38;5;124m.png\u001b[39m\u001b[38;5;124m'\u001b[39m):\n\u001b[1;32m     15\u001b[0m             image_path \u001b[38;5;241m=\u001b[39m os\u001b[38;5;241m.\u001b[39mpath\u001b[38;5;241m.\u001b[39mjoin(image_folder, filename)\n",
      "\u001b[0;31mFileNotFoundError\u001b[0m: [Errno 2] No such file or directory: '/Users/kelsey/Desktop/brain_tumor_data/glioma/images'"
     ]
    }
   ],
   "source": [
    "# Constants\n",
    "IMAGE_SIZE = (128, 128)  # You can adjust this\n",
    "DATA_PATH = \"/Users/kelsey/Desktop/brain_tumor_data\"\n",
    "CATEGORIES = ['glioma', 'meningioma', 'pituitary']\n",
    "\n",
    "def load_images_and_labels(data_path, categories, image_size):\n",
    "    images = []\n",
    "    labels = []\n",
    "\n",
    "    for label_index, category in enumerate(categories):\n",
    "        image_folder = os.path.join(data_path, category, 'images')\n",
    "        \n",
    "        for filename in os.listdir(image_folder):\n",
    "            if filename.endswith('.png'):\n",
    "                image_path = os.path.join(image_folder, filename)\n",
    "                image = Image.open(image_path).convert('L')  # convert to grayscale\n",
    "                image = image.resize(image_size)\n",
    "                image_array = np.array(image) / 255.0  # normalize\n",
    "\n",
    "                images.append(image_array)\n",
    "                labels.append(label_index)\n",
    "\n",
    "    return np.array(images), np.array(labels)\n",
    "\n",
    "# Load data\n",
    "X, y = load_images_and_labels(DATA_PATH, CATEGORIES, IMAGE_SIZE)\n",
    "\n",
    "# Expand dimensions for CNN input\n",
    "X = np.expand_dims(X, axis=-1)\n",
    "\n",
    "# Split into training, validation, and test sets\n",
    "X_train, X_temp, y_train, y_temp = train_test_split(X, y, test_size=0.3, stratify=y, random_state=42)\n",
    "X_val, X_test, y_val, y_test = train_test_split(X_temp, y_temp, test_size=0.5, stratify=y_temp, random_state=42)"
   ]
  },
  {
   "cell_type": "code",
   "execution_count": null,
   "id": "3f80a240-eb50-4e23-8d5d-af1b993ca5e2",
   "metadata": {},
   "outputs": [],
   "source": []
  }
 ],
 "metadata": {
  "kernelspec": {
   "display_name": "Tensorflow 2.17.0",
   "language": "python",
   "name": "tensorflow-2.17.0"
  },
  "language_info": {
   "codemirror_mode": {
    "name": "ipython",
    "version": 3
   },
   "file_extension": ".py",
   "mimetype": "text/x-python",
   "name": "python",
   "nbconvert_exporter": "python",
   "pygments_lexer": "ipython3",
   "version": "3.12.3"
  }
 },
 "nbformat": 4,
 "nbformat_minor": 5
}
